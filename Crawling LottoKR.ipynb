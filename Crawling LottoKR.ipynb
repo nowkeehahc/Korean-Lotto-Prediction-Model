{
 "cells": [
  {
   "cell_type": "code",
   "execution_count": null,
   "id": "e35ae6a8",
   "metadata": {},
   "outputs": [],
   "source": [
    "import warnings\n",
    "import requests\n",
    "from datetime import datetime\n",
    "from tqdm.notebook import tqdm\n",
    "import pandas as pd\n",
    "from bs4 import BeautifulSoup\n",
    "\n",
    "#Do not display warning messages\n",
    "warnings.filterwarnings('ignore')\n",
    "\n",
    "#Function to crawl the latest lottery drawing count\n",
    "def get_max_count():\n",
    "    url = 'https://dhlottery.co.kr/common.do?method=main'\n",
    "    html = requests.get(url).text\n",
    "    soup = BeautifulSoup(html, 'lxml')\n",
    "    max_count = int(soup.find('strong', id='lottoDrwNo').text)\n",
    "    return max_count\n",
    "\n",
    "\n",
    "#Function to crawl lottery winning numbers information\n",
    "def crawling_lotto(count):\n",
    "    # Use the drawing count to get the corresponding webpage\n",
    "    url = f'https://dhlottery.co.kr/gameResult.do?method=byWin&drwNo={count}'\n",
    "    html = requests.get(url).text\n",
    "    soup = BeautifulSoup(html, 'lxml')\n",
    "    \n",
    "    date = datetime.strptime(soup.find('p', class_='desc').text, '(%Y년 %m월 %d일 추첨)')\n",
    "    win_number = [int(i) for i in soup.find('div', class_='num win').find('p').text.strip().split('\\n')]\n",
    "    bonus_number = int(soup.find('div', class_='num bonus').find('p').text.strip())\n",
    "    \n",
    "    return {\n",
    "        'date': date, \n",
    "        'win_number': win_number, \n",
    "        'bonus_number': bonus_number\n",
    "    }\n",
    "\n",
    "#Get the latest drawing count\n",
    "max_count = get_max_count()\n",
    "#Crawl data for all lottery drawings\n",
    "data = pd.DataFrame()\n",
    "for i in tqdm(range(1, max_count+1)):\n",
    "    result = crawling_lotto(i)\n",
    "    data = data.append({'date': result['date'],\n",
    "                        'num1': result['win_number'][0],\n",
    "                        'num2': result['win_number'][1],\n",
    "                        'num3': result['win_number'][2],\n",
    "                        'num4': result['win_number'][3],\n",
    "                        'num5': result['win_number'][4],\n",
    "                        'num6': result['win_number'][5],\n",
    "                        'bonus': result['bonus_number'],\n",
    "                       }, ignore_index=True)\n",
    "data\n",
    "\n",
    "data.to_csv('lotto.csv', index=False)\n"
   ]
  }
 ],
 "metadata": {
  "kernelspec": {
   "display_name": "Python 3 (ipykernel)",
   "language": "python",
   "name": "python3"
  },
  "language_info": {
   "codemirror_mode": {
    "name": "ipython",
    "version": 3
   },
   "file_extension": ".py",
   "mimetype": "text/x-python",
   "name": "python",
   "nbconvert_exporter": "python",
   "pygments_lexer": "ipython3",
   "version": "3.9.13"
  }
 },
 "nbformat": 4,
 "nbformat_minor": 5
}
